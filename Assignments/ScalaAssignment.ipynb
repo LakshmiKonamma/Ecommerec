{
 "cells": [
  {
   "cell_type": "code",
   "execution_count": 38,
   "id": "a848fdc7-af2d-45b5-bcd8-2c9f9a69d6bc",
   "metadata": {},
   "outputs": [
    {
     "name": "stdout",
     "output_type": "stream",
     "text": [
      "Array sum is : 55.0\n",
      "Array Average is : 5.5\n",
      "Array after multiplying by 2 : 2,4,6,8,10,12,14,16,18,20\n"
     ]
    },
    {
     "data": {
      "text/plain": [
       "arr: Array[Int] = Array(1, 2, 3, 4, 5, 6, 7, 8, 9, 10)\r\n",
       "arr_sum: Float = 55.0\r\n",
       "arr_map: Array[Int] = Array(2, 4, 6, 8, 10, 12, 14, 16, 18, 20)\r\n"
      ]
     },
     "execution_count": 38,
     "metadata": {},
     "output_type": "execute_result"
    }
   ],
   "source": [
    "/* 1. Basic Array Operations:\n",
    "- Create an array of integers with 10 elements.*/\n",
    "var arr = Array(1,2,3,4,5,6,7,8,9,10)\n",
    "// Write a Scala program that calculates the sum and the average of all elements in the array.\n",
    "var arr_sum:Float=arr.sum\n",
    "println(\"Array sum is : \" + arr_sum)\n",
    "println(\"Array Average is : \" + arr_sum/arr.length)\n",
    "//Modify the array by multiplying each element by 2.*/\n",
    "var arr_map= arr.map(_ * 2)\n",
    "println(\"Array after multiplying by 2 : \"+arr_map.mkString(\",\"))"
   ]
  },
  {
   "cell_type": "code",
   "execution_count": 16,
   "id": "28da2e74-aede-45c7-b77b-64affe460ed8",
   "metadata": {},
   "outputs": [
    {
     "name": "stdout",
     "output_type": "stream",
     "text": [
      "------------------------------------------------------------\n",
      "10, 9, 8, 7, 6, 5, 4, 3, 2, 1\n",
      "------------------------------------------------------------\n",
      " minimum num: 1\n",
      "------------------------------------------------------------\n",
      "maximum num : 10\n",
      "------------------------------------------------------------\n"
     ]
    },
    {
     "data": {
      "text/plain": [
       "reversed: Array[Int] = Array(10, 9, 8, 7, 6, 5, 4, 3, 2, 1)\r\n"
      ]
     },
     "execution_count": 16,
     "metadata": {},
     "output_type": "execute_result"
    }
   ],
   "source": [
    "/*2. Array Manipulation:\n",
    "- Write a program to reverse the given array.\n",
    "var arr = Array(1,2,3,4,5,6,7,8,9,10*/\n",
    "val reversed = arr.reverse\n",
    "println(\"-\"*60)\n",
    "println(reversed.mkString(\", \"))\n",
    "println(\"-\"*60)\n",
    "//Find the maximum and minimum elements in the array.\n",
    "println(\" minimum num: \"+arr.min) //output 1\n",
    "println(\"-\"*60)\n",
    "println(\"maximum num : \"+ arr.max) // Output: 7\n",
    "println(\"-\"*60)"
   ]
  },
  {
   "cell_type": "code",
   "execution_count": 26,
   "id": "f3baa4d6-60ef-4b25-8263-0111e58734c7",
   "metadata": {},
   "outputs": [
    {
     "name": "stdout",
     "output_type": "stream",
     "text": [
      "List(1, 2, 3, 4, 5, 6, 7, 8, 9, 10)\n",
      "------------------------------------------------------------\n",
      "Even numbers in the list : List(2, 4, 6, 8, 10)\n",
      "------------------------------------------------------------\n",
      "Sum of Even numbers in the list : 30\n"
     ]
    },
    {
     "data": {
      "text/plain": [
       "list1: List[Int] = List(1, 2, 3, 4, 5, 6, 7, 8, 9, 10)\r\n"
      ]
     },
     "execution_count": 26,
     "metadata": {},
     "output_type": "execute_result"
    }
   ],
   "source": [
    "/*Collections\n",
    "1. Lists:\n",
    "- Create a list of integers from 1 to 10.*/\n",
    "var list1=List(1,2,3,4,5,6,7,8,9,10)\n",
    "println(list1)\n",
    "//Filter the list to keep only even numbers.\n",
    "println(\"-\"*60)\n",
    "println(\"Even numbers in the list : \"+list1.filter(_%2==0))\n",
    "println(\"-\"*60)\n",
    "// Find the sum of all elements in the filtered list.\n",
    "println(\"Sum of Even numbers in the list : \"+list1.filter(_%2==0).sum)"
   ]
  },
  {
   "cell_type": "code",
   "execution_count": 28,
   "id": "a14f06a5-f676-4b94-bb8e-ecf95893dfcc",
   "metadata": {},
   "outputs": [
    {
     "ename": "<console>",
     "evalue": "26: error: value push is not a member of List[Int]\r",
     "output_type": "error",
     "traceback": [
      "<console>:26: error: value push is not a member of List[Int]\r",
      "       list1.push(11)\r",
      "             ^\r",
      ""
     ]
    }
   ],
   "source": [
    "/*2. Implement a generic stack data structure using Scala collections (like `List`) and provide\n",
    "basic push, pop, and peek functionalities.*/\n",
    "println(list1)\n"
   ]
  },
  {
   "cell_type": "code",
   "execution_count": 58,
   "id": "ac1b6011-c2e9-4fd5-9987-a13f3acc5d94",
   "metadata": {},
   "outputs": [
    {
     "name": "stdout",
     "output_type": "stream",
     "text": [
      "The capital of Nepal is Kathmandu.\n",
      "U.S. is not in the map.\n"
     ]
    },
    {
     "data": {
      "text/plain": [
       "country_capitals: scala.collection.immutable.Map[String,String] = Map(China -> Beijing, Sri Lanka -> Colombo, India -> New Delhi, Australia -> Canberra, Nepal -> Kathmandu)\r\n",
       "findCapital: (country: String)Unit\r\n"
      ]
     },
     "execution_count": 58,
     "metadata": {},
     "output_type": "execute_result"
    }
   ],
   "source": [
    "/* 3. Maps:\n",
    "- Create a Map to store 5 country-capital pairs.\n",
    "- Write a program to check if a given key (country) exists in the map.\n",
    "- If the country exists, print its capital.*/\n",
    "\n",
    "val country_capitals = Map(\n",
    "  \"India\" -> \"New Delhi\",\n",
    "  \"Nepal\" -> \"Kathmandu\",\n",
    "  \"Sri Lanka\" -> \"Colombo\",\n",
    "  \"Australia\" -> \"Canberra\",\n",
    "  \"China\" -> \"Beijing\"\n",
    "      )\n",
    "\n",
    "// Function to check if a given country exists in the map and print its capital\n",
    "def findCapital(country: String){\n",
    "  var found = false\n",
    "  var capital = \"\"\n",
    "\n",
    "  for ((key, value) <- country_capitals if !found) {\n",
    "    if (key == country) {\n",
    "      found = true\n",
    "      capital = value\n",
    "    }\n",
    "  }\n",
    "\n",
    "  if (found) {\n",
    "    println(s\"The capital of $country is $capital.\")\n",
    "  } else {\n",
    "    println(s\"$country is not in the map.\")\n",
    "  }\n",
    "}\n",
    "\n",
    "// Example usage\n",
    "findCapital(\"Nepal\")\n",
    "findCapital(\"U.S.\")\n",
    "\n",
    "\n",
    "\n"
   ]
  },
  {
   "cell_type": "code",
   "execution_count": 3,
   "id": "5173a25e-8ae1-48e6-839a-5b17bb8e862e",
   "metadata": {},
   "outputs": [
    {
     "name": "stdout",
     "output_type": "stream",
     "text": [
      "Circle: Area = 706.86, Perimeter = 94.25\n",
      "Rectangle: Area = 800.00, Perimeter = 120.00\n"
     ]
    },
    {
     "data": {
      "text/plain": [
       "defined trait Shape\r\n",
       "defined class Circle\r\n",
       "defined class Rectangle\r\n",
       "circle: Circle = Circle@7b12e262\r\n",
       "rectangle: Rectangle = Rectangle@292e1d9a\r\n"
      ]
     },
     "execution_count": 3,
     "metadata": {},
     "output_type": "execute_result"
    }
   ],
   "source": [
    "/*Scala Traits\n",
    "- Define a trait called `Shape` with two methods: `area()` and `perimeter()`.\n",
    "- Create two classes, `Circle` and `Rectangle`, that implement the `Shape` trait.\n",
    "- Write a Scala program to calculate the area and perimeter of a circle and a rectangle.*/\n",
    "\n",
    "trait Shape{\n",
    "    def area() : Double\n",
    "    def perimeter() : Double\n",
    "}\n",
    "class Circle(val radius: Double) extends Shape {\n",
    "  override def area(): Double = Math.PI * radius * radius\n",
    "  override def perimeter(): Double = 2 * Math.PI * radius\n",
    "}\n",
    "class Rectangle(val length: Double, val width: Double) extends Shape {\n",
    "  override def area(): Double = length * width\n",
    "  override def perimeter(): Double = 2 * (length + width)\n",
    "}\n",
    "val circle = new Circle(15)\n",
    "val rectangle = new Rectangle(40,20)\n",
    "println(f\"Circle: Area = ${circle.area()}%.2f, Perimeter = ${circle.perimeter()}%.2f\")\n",
    "println(f\"Rectangle: Area = ${rectangle.area()}%.2f, Perimeter = ${rectangle.perimeter()}%.2f\")"
   ]
  },
  {
   "cell_type": "code",
   "execution_count": 52,
   "id": "63a7ef81-fb16-4c3a-bcae-b85eefe3352c",
   "metadata": {},
   "outputs": [
    {
     "name": "stdout",
     "output_type": "stream",
     "text": [
      "Dog:\n",
      "Dog says: Woof!\n",
      "Dog is running\n",
      "\n",
      "Bird:\n",
      "Bird says: Tweet!\n",
      "Bird is flying\n"
     ]
    },
    {
     "data": {
      "text/plain": [
       "defined class Animal\r\n",
       "defined class Dog\r\n",
       "defined class Bird\r\n",
       "dog: Dog = Dog@39bd9a83\r\n",
       "bird: Bird = Bird@68e803b3\r\n"
      ]
     },
     "execution_count": 52,
     "metadata": {},
     "output_type": "execute_result"
    }
   ],
   "source": [
    "/*1. Classes and Inheritance:\n",
    "- Create a base class `Animal` with methods `speak()` and `move()`.\n",
    "- Create two subclasses `Dog` and `Bird` that inherit from the `Animal` class.\n",
    "- Override the `speak()` and `move()` methods in the subclasses.\n",
    "- Write a program that creates instances of `Dog` and `Bird`, and calls their `speak()` and\n",
    "`move()` methods.*/\n",
    "class Animal {\n",
    "  def speak(){\n",
    "    println(\"Animal is making a sound\")\n",
    "  }\n",
    "\n",
    "  def move(){\n",
    "    println(\"Animal is moving.\")\n",
    "  }\n",
    "}\n",
    "class Dog extends Animal {\n",
    "  override def speak(): Unit = {\n",
    "    println(\"Dog says: Woof!\")\n",
    "  }\n",
    "\n",
    "  override def move(){\n",
    "    println(\"Dog is running\")\n",
    "  }\n",
    "}\n",
    "class Bird extends Animal {\n",
    "  override def speak(){\n",
    "    println(\"Bird says: Tweet!\")\n",
    "  }\n",
    "\n",
    "  override def move(){\n",
    "    println(\"Bird is flying.\")\n",
    "  }\n",
    "}\n",
    "val dog = new Dog\n",
    "val bird = new Bird\n",
    "\n",
    "println(\"Dog:\")\n",
    "dog.speak()\n",
    "dog.move()\n",
    "\n",
    "println(\"\\nBird:\")\n",
    "bird.speak()\n",
    "bird.move()\n",
    "\n"
   ]
  },
  {
   "cell_type": "code",
   "execution_count": 56,
   "id": "daf5b3e5-ee06-4ec6-afc0-6824e0fd0918",
   "metadata": {},
   "outputs": [
    {
     "name": "stdout",
     "output_type": "stream",
     "text": [
      "Current balance is 5000.0.\n",
      "Deposited 1500.0. New balance is 6500.0.\n",
      "Withdrew 1200.0. New balance is 5300.0.\n",
      "Insufficient funds.\n",
      "Current balance is 5300.0.\n"
     ]
    },
    {
     "data": {
      "text/plain": [
       "defined class BankAccount\r\n",
       "account: BankAccount = BankAccount@2137c54e\r\n"
      ]
     },
     "execution_count": 56,
     "metadata": {},
     "output_type": "execute_result"
    }
   ],
   "source": [
    "/* 2. Encapsulation:\n",
    "- Create a class `BankAccount` with private variables `accountNumber` and `balance`.\n",
    "- Implement methods to deposit and withdraw money from the account, ensuring the balance\n",
    "cannot go negative.\n",
    "- Provide a method to display the current balance.*/\n",
    "class BankAccount(private val accountNumber: String, private var balance: Double) {\n",
    "\n",
    "  // Method to deposit money into the account\n",
    "  def deposit(amount: Double){\n",
    "    if (amount > 0) {\n",
    "      balance += amount\n",
    "      println(s\"Deposited $amount. New balance is $balance.\")\n",
    "    } else {\n",
    "      println(\"Deposit amount must be positive.\")\n",
    "    }\n",
    "  }\n",
    "\n",
    "  // Method to withdraw money from the account\n",
    "  def withdraw(amount: Double){\n",
    "    if (amount > 0 && amount <= balance) {\n",
    "      balance -= amount\n",
    "      println(s\"Withdrew $amount. Current balance is $balance.\")\n",
    "    } else if (amount > balance) {\n",
    "      println(\"Insufficient funds.\")\n",
    "    } else {\n",
    "      println(\"Withdrawal amount must be positive.\")\n",
    "    }\n",
    "  }\n",
    "\n",
    "  // Method to display the current balance\n",
    "  def displayBalance(){\n",
    "    println(s\"Current balance is $balance.\")\n",
    "  }\n",
    "}\n",
    "\n",
    "\n",
    "val account = new BankAccount(\"259086234\", 5000.0)\n",
    "\n",
    "\n",
    "account.displayBalance() // Display initial balance\n",
    "account.deposit(1500.0) // Deposit money\n",
    "account.withdraw(1200.0) // Withdraw money\n",
    "account.withdraw(6500.0) // Attempt to withdraw more money than available\n",
    "account.displayBalance() // Display final balance\n",
    "\n",
    "\n"
   ]
  },
  {
   "cell_type": "code",
   "execution_count": null,
   "id": "d6a48c2f-6305-47d7-8f98-b337a2834a32",
   "metadata": {},
   "outputs": [],
   "source": []
  }
 ],
 "metadata": {
  "kernelspec": {
   "display_name": "spylon-kernel",
   "language": "scala",
   "name": "spylon-kernel"
  },
  "language_info": {
   "codemirror_mode": "text/x-scala",
   "file_extension": ".scala",
   "help_links": [
    {
     "text": "MetaKernel Magics",
     "url": "https://metakernel.readthedocs.io/en/latest/source/README.html"
    }
   ],
   "mimetype": "text/x-scala",
   "name": "scala",
   "pygments_lexer": "scala",
   "version": "0.4.1"
  }
 },
 "nbformat": 4,
 "nbformat_minor": 5
}
